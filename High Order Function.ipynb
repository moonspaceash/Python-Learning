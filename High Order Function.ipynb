{
  "nbformat": 4,
  "nbformat_minor": 0,
  "metadata": {
    "colab": {
      "provenance": [],
      "authorship_tag": "ABX9TyMioYbnTz+AQr4FMU6IYIJf",
      "include_colab_link": true
    },
    "kernelspec": {
      "name": "python3",
      "display_name": "Python 3"
    },
    "language_info": {
      "name": "python"
    }
  },
  "cells": [
    {
      "cell_type": "markdown",
      "metadata": {
        "id": "view-in-github",
        "colab_type": "text"
      },
      "source": [
        "<a href=\"https://colab.research.google.com/github/moonspaceash/Python-Learning/blob/main/High%20Order%20Function.ipynb\" target=\"_parent\"><img src=\"https://colab.research.google.com/assets/colab-badge.svg\" alt=\"Open In Colab\"/></a>"
      ]
    },
    {
      "cell_type": "code",
      "execution_count": 1,
      "metadata": {
        "id": "AJ1MteaXkBuk"
      },
      "outputs": [],
      "source": [
        "#High Order Functions are list of this functions which take input of another function as an arguement"
      ]
    },
    {
      "cell_type": "markdown",
      "source": [
        "#Map\n",
        "\n",
        "It takes a function and sequence as the arguments and then returns a list after applying the function to each sequence’s items. Let us consider an example :-"
      ],
      "metadata": {
        "id": "q3B08_fRleyl"
      }
    },
    {
      "cell_type": "markdown",
      "source": [
        "Syntax of Map Function  -  **map(function,  iterable Object)**"
      ],
      "metadata": {
        "id": "LAwFPMkfl-pk"
      }
    },
    {
      "cell_type": "code",
      "source": [
        "x=  map (lambda x: x+2, [1,2,3,4])"
      ],
      "metadata": {
        "id": "a8yf0_hjlfnQ"
      },
      "execution_count": 12,
      "outputs": []
    },
    {
      "cell_type": "code",
      "source": [
        "x\n",
        "#Map return Object"
      ],
      "metadata": {
        "colab": {
          "base_uri": "https://localhost:8080/"
        },
        "id": "bp29BlSslrcT",
        "outputId": "9defc615-4162-496e-d1b7-4e4df9eeb187"
      },
      "execution_count": 13,
      "outputs": [
        {
          "output_type": "execute_result",
          "data": {
            "text/plain": [
              "<map at 0x7fa5c2657550>"
            ]
          },
          "metadata": {},
          "execution_count": 13
        }
      ]
    },
    {
      "cell_type": "code",
      "source": [
        "list(x)"
      ],
      "metadata": {
        "colab": {
          "base_uri": "https://localhost:8080/"
        },
        "id": "L2bZftJElsz0",
        "outputId": "9e84bd7d-f416-4921-a231-33c44e4c297b"
      },
      "execution_count": 14,
      "outputs": [
        {
          "output_type": "execute_result",
          "data": {
            "text/plain": [
              "[3, 4, 5, 6]"
            ]
          },
          "metadata": {},
          "execution_count": 14
        }
      ]
    },
    {
      "cell_type": "markdown",
      "source": [
        "#Filter\n",
        "Filter takes two parameters, the first one is a function and the second one is a sequence. Then it returns an iterator that passed through a function test for those elements function returns True. Let us consider an example, suppose we want to filter out those numbers which are greater than 50 from a given list of numbers.\n"
      ],
      "metadata": {
        "id": "7g86n3MKmKzc"
      }
    },
    {
      "cell_type": "code",
      "source": [
        "numbers = [55, 92, 27, 48, 34, 62, 71, 18, 28, 43] "
      ],
      "metadata": {
        "id": "tA2nWMIxlyj-"
      },
      "execution_count": 15,
      "outputs": []
    },
    {
      "cell_type": "code",
      "source": [
        "def checking(n):\n",
        "  if n>50:\n",
        "    #return False\n",
        "    print('Faulty')\n",
        "  else:\n",
        "    #return True\n",
        "    print('Not Faulty')"
      ],
      "metadata": {
        "id": "O64RY6LsmXNI"
      },
      "execution_count": 20,
      "outputs": []
    },
    {
      "cell_type": "code",
      "source": [
        "def checking_boolear(n):\n",
        "  if n>50:\n",
        "    return False\n",
        "  else:\n",
        "    return True"
      ],
      "metadata": {
        "id": "A3l0y9-amzcK"
      },
      "execution_count": 24,
      "outputs": []
    },
    {
      "cell_type": "code",
      "source": [
        "Y=  filter(checking, numbers)"
      ],
      "metadata": {
        "id": "oytDQgxtme64"
      },
      "execution_count": 21,
      "outputs": []
    },
    {
      "cell_type": "code",
      "source": [
        "Y"
      ],
      "metadata": {
        "colab": {
          "base_uri": "https://localhost:8080/"
        },
        "id": "w1xLlPZOmjr-",
        "outputId": "fddc7cc1-1a15-46f0-fe3d-09925e8df18b"
      },
      "execution_count": 22,
      "outputs": [
        {
          "output_type": "execute_result",
          "data": {
            "text/plain": [
              "<filter at 0x7fa5c268d0c0>"
            ]
          },
          "metadata": {},
          "execution_count": 22
        }
      ]
    },
    {
      "cell_type": "code",
      "source": [
        "list(Y)"
      ],
      "metadata": {
        "colab": {
          "base_uri": "https://localhost:8080/"
        },
        "id": "R9YWl0dUmkuw",
        "outputId": "5960815b-cb56-414e-abd3-379b0e0aa1cc"
      },
      "execution_count": 23,
      "outputs": [
        {
          "output_type": "stream",
          "name": "stdout",
          "text": [
            "Faulty\n",
            "Faulty\n",
            "Not Faulty\n",
            "Not Faulty\n",
            "Not Faulty\n",
            "Faulty\n",
            "Faulty\n",
            "Not Faulty\n",
            "Not Faulty\n",
            "Not Faulty\n"
          ]
        },
        {
          "output_type": "execute_result",
          "data": {
            "text/plain": [
              "[]"
            ]
          },
          "metadata": {},
          "execution_count": 23
        }
      ]
    },
    {
      "cell_type": "code",
      "source": [
        "Z= filter(checking_boolear,numbers)"
      ],
      "metadata": {
        "id": "O8Lvj8MYmmeS"
      },
      "execution_count": 25,
      "outputs": []
    },
    {
      "cell_type": "code",
      "source": [
        "Z"
      ],
      "metadata": {
        "colab": {
          "base_uri": "https://localhost:8080/"
        },
        "id": "jfPDrVQgm7K7",
        "outputId": "557aca89-2661-4612-b4da-fcdc88fd897a"
      },
      "execution_count": 26,
      "outputs": [
        {
          "output_type": "execute_result",
          "data": {
            "text/plain": [
              "<filter at 0x7fa5c268f400>"
            ]
          },
          "metadata": {},
          "execution_count": 26
        }
      ]
    },
    {
      "cell_type": "code",
      "source": [
        "list(Z)"
      ],
      "metadata": {
        "colab": {
          "base_uri": "https://localhost:8080/"
        },
        "id": "5N87_YAQm7sH",
        "outputId": "f9a0dcf1-cb6a-4cc6-cbe8-702425537823"
      },
      "execution_count": 27,
      "outputs": [
        {
          "output_type": "execute_result",
          "data": {
            "text/plain": [
              "[27, 48, 34, 18, 28, 43]"
            ]
          },
          "metadata": {},
          "execution_count": 27
        }
      ]
    },
    {
      "cell_type": "markdown",
      "source": [
        "#Reduce Function\n",
        "It takes a sequence/iterable of input data then applies to the function \n",
        "provided and gives a single result.\n",
        "\n",
        "It is used to reduce an iterable to a single value by applying a specified binary function to the elements in a cumulative way. The binary function should take two arguments and return a single value.\n",
        "\n",
        "From recent Python version you will need to  import reduce library"
      ],
      "metadata": {
        "id": "rfuxBYBpobW4"
      }
    },
    {
      "cell_type": "code",
      "source": [
        "from functools import reduce"
      ],
      "metadata": {
        "id": "KIdtMlbcqZ4p"
      },
      "execution_count": 52,
      "outputs": []
    },
    {
      "cell_type": "code",
      "source": [
        "def  addition_sum(a,b):\n",
        "  return a+b"
      ],
      "metadata": {
        "id": "fplsPXqom8v5"
      },
      "execution_count": 53,
      "outputs": []
    },
    {
      "cell_type": "code",
      "source": [
        "n= map(int, input(\"Enter the List of Number\").split())"
      ],
      "metadata": {
        "colab": {
          "base_uri": "https://localhost:8080/"
        },
        "id": "-VkT1EGDpoVg",
        "outputId": "2c169cb6-c185-4d9b-fc72-adb3a23a4029"
      },
      "execution_count": 54,
      "outputs": [
        {
          "name": "stdout",
          "output_type": "stream",
          "text": [
            "Enter the List of Number1 2 3 4\n"
          ]
        }
      ]
    },
    {
      "cell_type": "code",
      "source": [
        "type(n)"
      ],
      "metadata": {
        "colab": {
          "base_uri": "https://localhost:8080/"
        },
        "id": "pmh5rjA5qBPg",
        "outputId": "85323e23-6c03-4f1c-decb-5562eb7d3f6f"
      },
      "execution_count": 60,
      "outputs": [
        {
          "output_type": "execute_result",
          "data": {
            "text/plain": [
              "map"
            ]
          },
          "metadata": {},
          "execution_count": 60
        }
      ]
    },
    {
      "cell_type": "code",
      "source": [
        "type(list(n))"
      ],
      "metadata": {
        "colab": {
          "base_uri": "https://localhost:8080/"
        },
        "id": "V_cttpDhrWW8",
        "outputId": "0747eeea-b5e1-450a-9da1-a9cd7151c807"
      },
      "execution_count": 59,
      "outputs": [
        {
          "output_type": "execute_result",
          "data": {
            "text/plain": [
              "list"
            ]
          },
          "metadata": {},
          "execution_count": 59
        }
      ]
    },
    {
      "cell_type": "code",
      "source": [
        "reduce(addition_sum,n)"
      ],
      "metadata": {
        "colab": {
          "base_uri": "https://localhost:8080/"
        },
        "id": "6mBV2XldqDPC",
        "outputId": "d096dc1a-0355-4336-a315-7c76d38965e5"
      },
      "execution_count": 56,
      "outputs": [
        {
          "output_type": "execute_result",
          "data": {
            "text/plain": [
              "10"
            ]
          },
          "metadata": {},
          "execution_count": 56
        }
      ]
    },
    {
      "cell_type": "code",
      "source": [],
      "metadata": {
        "id": "w3p2oHM3q8gW"
      },
      "execution_count": null,
      "outputs": []
    }
  ]
}